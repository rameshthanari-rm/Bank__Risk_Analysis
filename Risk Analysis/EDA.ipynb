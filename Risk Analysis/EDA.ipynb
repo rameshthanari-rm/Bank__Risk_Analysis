{
 "cells": [
  {
   "cell_type": "code",
   "execution_count": 1,
   "metadata": {},
   "outputs": [
    {
     "name": "stdout",
     "output_type": "stream",
     "text": [
      "Requirement already up-to-date: seaborn in c:\\users\\rames\\anaconda3\\anaconda\\lib\\site-packages (0.12.2)\n",
      "Requirement already satisfied, skipping upgrade: numpy!=1.24.0,>=1.17 in c:\\users\\rames\\appdata\\roaming\\python\\python37\\site-packages (from seaborn) (1.19.5)\n",
      "Requirement already satisfied, skipping upgrade: typing_extensions; python_version < \"3.8\" in c:\\users\\rames\\appdata\\roaming\\python\\python37\\site-packages (from seaborn) (4.5.0)\n",
      "Requirement already satisfied, skipping upgrade: matplotlib!=3.6.1,>=3.1 in c:\\users\\rames\\anaconda3\\anaconda\\lib\\site-packages (from seaborn) (3.1.1)\n",
      "Requirement already satisfied, skipping upgrade: pandas>=0.25 in c:\\users\\rames\\appdata\\roaming\\python\\python37\\site-packages (from seaborn) (0.25.3)\n",
      "Requirement already satisfied, skipping upgrade: cycler>=0.10 in c:\\users\\rames\\anaconda3\\anaconda\\lib\\site-packages (from matplotlib!=3.6.1,>=3.1->seaborn) (0.10.0)\n",
      "Requirement already satisfied, skipping upgrade: kiwisolver>=1.0.1 in c:\\users\\rames\\anaconda3\\anaconda\\lib\\site-packages (from matplotlib!=3.6.1,>=3.1->seaborn) (1.1.0)\n",
      "Requirement already satisfied, skipping upgrade: pyparsing!=2.0.4,!=2.1.2,!=2.1.6,>=2.0.1 in c:\\users\\rames\\anaconda3\\anaconda\\lib\\site-packages (from matplotlib!=3.6.1,>=3.1->seaborn) (2.4.2)\n",
      "Requirement already satisfied, skipping upgrade: python-dateutil>=2.1 in c:\\users\\rames\\anaconda3\\anaconda\\lib\\site-packages (from matplotlib!=3.6.1,>=3.1->seaborn) (2.8.0)\n",
      "Requirement already satisfied, skipping upgrade: pytz>=2017.2 in c:\\users\\rames\\anaconda3\\anaconda\\lib\\site-packages (from pandas>=0.25->seaborn) (2019.3)\n",
      "Requirement already satisfied, skipping upgrade: six in c:\\users\\rames\\anaconda3\\anaconda\\lib\\site-packages (from cycler>=0.10->matplotlib!=3.6.1,>=3.1->seaborn) (1.12.0)\n",
      "Requirement already satisfied, skipping upgrade: setuptools in c:\\users\\rames\\anaconda3\\anaconda\\lib\\site-packages (from kiwisolver>=1.0.1->matplotlib!=3.6.1,>=3.1->seaborn) (41.4.0)\n"
     ]
    }
   ],
   "source": [
    "!pip install --upgrade seaborn\n",
    "\n",
    "import pandas as pd\n",
    "import matplotlib.pyplot as plt\n",
    "import seaborn as sns\n",
    "import numpy as np"
   ]
  },
  {
   "cell_type": "code",
   "execution_count": 2,
   "metadata": {},
   "outputs": [],
   "source": [
    "df = pd.read_csv(r\"C:\\Users\\rames\\OneDrive\\Desktop\\Risk Analysis\\Banking.csv\")"
   ]
  },
  {
   "cell_type": "code",
   "execution_count": 3,
   "metadata": {},
   "outputs": [
    {
     "data": {
      "text/html": [
       "<div>\n",
       "<style scoped>\n",
       "    .dataframe tbody tr th:only-of-type {\n",
       "        vertical-align: middle;\n",
       "    }\n",
       "\n",
       "    .dataframe tbody tr th {\n",
       "        vertical-align: top;\n",
       "    }\n",
       "\n",
       "    .dataframe thead th {\n",
       "        text-align: right;\n",
       "    }\n",
       "</style>\n",
       "<table border=\"1\" class=\"dataframe\">\n",
       "  <thead>\n",
       "    <tr style=\"text-align: right;\">\n",
       "      <th></th>\n",
       "      <th>Client ID</th>\n",
       "      <th>Name</th>\n",
       "      <th>Age</th>\n",
       "      <th>Location ID</th>\n",
       "      <th>Joined Bank</th>\n",
       "      <th>Banking Contact</th>\n",
       "      <th>Nationality</th>\n",
       "      <th>Occupation</th>\n",
       "      <th>Fee Structure</th>\n",
       "      <th>Loyalty Classification</th>\n",
       "      <th>...</th>\n",
       "      <th>Bank Deposits</th>\n",
       "      <th>Checking Accounts</th>\n",
       "      <th>Saving Accounts</th>\n",
       "      <th>Foreign Currency Account</th>\n",
       "      <th>Business Lending</th>\n",
       "      <th>Properties Owned</th>\n",
       "      <th>Risk Weighting</th>\n",
       "      <th>BRId</th>\n",
       "      <th>GenderId</th>\n",
       "      <th>IAId</th>\n",
       "    </tr>\n",
       "  </thead>\n",
       "  <tbody>\n",
       "    <tr>\n",
       "      <th>0</th>\n",
       "      <td>IND81288</td>\n",
       "      <td>Raymond Mills</td>\n",
       "      <td>24</td>\n",
       "      <td>34324</td>\n",
       "      <td>06-05-2019</td>\n",
       "      <td>Anthony Torres</td>\n",
       "      <td>American</td>\n",
       "      <td>Safety Technician IV</td>\n",
       "      <td>High</td>\n",
       "      <td>Jade</td>\n",
       "      <td>...</td>\n",
       "      <td>1485828.64</td>\n",
       "      <td>603617.88</td>\n",
       "      <td>607332.46</td>\n",
       "      <td>12249.96</td>\n",
       "      <td>1134475.30</td>\n",
       "      <td>1</td>\n",
       "      <td>2</td>\n",
       "      <td>1</td>\n",
       "      <td>1</td>\n",
       "      <td>1</td>\n",
       "    </tr>\n",
       "    <tr>\n",
       "      <th>1</th>\n",
       "      <td>IND65833</td>\n",
       "      <td>Julia Spencer</td>\n",
       "      <td>23</td>\n",
       "      <td>42205</td>\n",
       "      <td>10-12-2001</td>\n",
       "      <td>Jonathan Hawkins</td>\n",
       "      <td>African</td>\n",
       "      <td>Software Consultant</td>\n",
       "      <td>High</td>\n",
       "      <td>Jade</td>\n",
       "      <td>...</td>\n",
       "      <td>641482.79</td>\n",
       "      <td>229521.37</td>\n",
       "      <td>344635.16</td>\n",
       "      <td>61162.31</td>\n",
       "      <td>2000526.10</td>\n",
       "      <td>1</td>\n",
       "      <td>3</td>\n",
       "      <td>2</td>\n",
       "      <td>1</td>\n",
       "      <td>2</td>\n",
       "    </tr>\n",
       "    <tr>\n",
       "      <th>2</th>\n",
       "      <td>IND47499</td>\n",
       "      <td>Stephen Murray</td>\n",
       "      <td>27</td>\n",
       "      <td>7314</td>\n",
       "      <td>25-01-2010</td>\n",
       "      <td>Anthony Berry</td>\n",
       "      <td>European</td>\n",
       "      <td>Help Desk Operator</td>\n",
       "      <td>High</td>\n",
       "      <td>Gold</td>\n",
       "      <td>...</td>\n",
       "      <td>1033401.59</td>\n",
       "      <td>652674.69</td>\n",
       "      <td>203054.35</td>\n",
       "      <td>79071.78</td>\n",
       "      <td>548137.58</td>\n",
       "      <td>1</td>\n",
       "      <td>3</td>\n",
       "      <td>3</td>\n",
       "      <td>2</td>\n",
       "      <td>3</td>\n",
       "    </tr>\n",
       "    <tr>\n",
       "      <th>3</th>\n",
       "      <td>IND72498</td>\n",
       "      <td>Virginia Garza</td>\n",
       "      <td>40</td>\n",
       "      <td>34594</td>\n",
       "      <td>28-03-2019</td>\n",
       "      <td>Steve Diaz</td>\n",
       "      <td>American</td>\n",
       "      <td>Geologist II</td>\n",
       "      <td>Mid</td>\n",
       "      <td>Silver</td>\n",
       "      <td>...</td>\n",
       "      <td>1048157.49</td>\n",
       "      <td>1048157.49</td>\n",
       "      <td>234685.02</td>\n",
       "      <td>57513.65</td>\n",
       "      <td>1148402.29</td>\n",
       "      <td>0</td>\n",
       "      <td>4</td>\n",
       "      <td>4</td>\n",
       "      <td>1</td>\n",
       "      <td>4</td>\n",
       "    </tr>\n",
       "    <tr>\n",
       "      <th>4</th>\n",
       "      <td>IND60181</td>\n",
       "      <td>Melissa Sanders</td>\n",
       "      <td>46</td>\n",
       "      <td>41269</td>\n",
       "      <td>20-07-2012</td>\n",
       "      <td>Shawn Long</td>\n",
       "      <td>American</td>\n",
       "      <td>Assistant Professor</td>\n",
       "      <td>Mid</td>\n",
       "      <td>Platinum</td>\n",
       "      <td>...</td>\n",
       "      <td>487782.53</td>\n",
       "      <td>446644.25</td>\n",
       "      <td>128351.45</td>\n",
       "      <td>30012.14</td>\n",
       "      <td>1674412.12</td>\n",
       "      <td>0</td>\n",
       "      <td>3</td>\n",
       "      <td>1</td>\n",
       "      <td>2</td>\n",
       "      <td>5</td>\n",
       "    </tr>\n",
       "  </tbody>\n",
       "</table>\n",
       "<p>5 rows × 25 columns</p>\n",
       "</div>"
      ],
      "text/plain": [
       "  Client ID             Name  Age  Location ID Joined Bank   Banking Contact  \\\n",
       "0  IND81288    Raymond Mills   24        34324  06-05-2019    Anthony Torres   \n",
       "1  IND65833    Julia Spencer   23        42205  10-12-2001  Jonathan Hawkins   \n",
       "2  IND47499   Stephen Murray   27         7314  25-01-2010     Anthony Berry   \n",
       "3  IND72498   Virginia Garza   40        34594  28-03-2019        Steve Diaz   \n",
       "4  IND60181  Melissa Sanders   46        41269  20-07-2012        Shawn Long   \n",
       "\n",
       "  Nationality            Occupation Fee Structure Loyalty Classification  ...  \\\n",
       "0    American  Safety Technician IV          High                   Jade  ...   \n",
       "1     African   Software Consultant          High                   Jade  ...   \n",
       "2    European    Help Desk Operator          High                   Gold  ...   \n",
       "3    American          Geologist II           Mid                 Silver  ...   \n",
       "4    American   Assistant Professor           Mid               Platinum  ...   \n",
       "\n",
       "   Bank Deposits  Checking Accounts  Saving Accounts  \\\n",
       "0     1485828.64          603617.88        607332.46   \n",
       "1      641482.79          229521.37        344635.16   \n",
       "2     1033401.59          652674.69        203054.35   \n",
       "3     1048157.49         1048157.49        234685.02   \n",
       "4      487782.53          446644.25        128351.45   \n",
       "\n",
       "   Foreign Currency Account  Business Lending  Properties Owned  \\\n",
       "0                  12249.96        1134475.30                 1   \n",
       "1                  61162.31        2000526.10                 1   \n",
       "2                  79071.78         548137.58                 1   \n",
       "3                  57513.65        1148402.29                 0   \n",
       "4                  30012.14        1674412.12                 0   \n",
       "\n",
       "   Risk Weighting  BRId  GenderId  IAId  \n",
       "0               2     1         1     1  \n",
       "1               3     2         1     2  \n",
       "2               3     3         2     3  \n",
       "3               4     4         1     4  \n",
       "4               3     1         2     5  \n",
       "\n",
       "[5 rows x 25 columns]"
      ]
     },
     "execution_count": 3,
     "metadata": {},
     "output_type": "execute_result"
    }
   ],
   "source": [
    "df.head()"
   ]
  },
  {
   "cell_type": "code",
   "execution_count": 4,
   "metadata": {},
   "outputs": [
    {
     "data": {
      "text/plain": [
       "(3000, 25)"
      ]
     },
     "execution_count": 4,
     "metadata": {},
     "output_type": "execute_result"
    }
   ],
   "source": [
    "df.shape"
   ]
  },
  {
   "cell_type": "code",
   "execution_count": 5,
   "metadata": {},
   "outputs": [
    {
     "name": "stdout",
     "output_type": "stream",
     "text": [
      "<class 'pandas.core.frame.DataFrame'>\n",
      "RangeIndex: 3000 entries, 0 to 2999\n",
      "Data columns (total 25 columns):\n",
      "Client ID                   3000 non-null object\n",
      "Name                        3000 non-null object\n",
      "Age                         3000 non-null int64\n",
      "Location ID                 3000 non-null int64\n",
      "Joined Bank                 3000 non-null object\n",
      "Banking Contact             3000 non-null object\n",
      "Nationality                 3000 non-null object\n",
      "Occupation                  3000 non-null object\n",
      "Fee Structure               3000 non-null object\n",
      "Loyalty Classification      3000 non-null object\n",
      "Estimated Income            3000 non-null float64\n",
      "Superannuation Savings      3000 non-null float64\n",
      "Amount of Credit Cards      3000 non-null int64\n",
      "Credit Card Balance         3000 non-null float64\n",
      "Bank Loans                  3000 non-null float64\n",
      "Bank Deposits               3000 non-null float64\n",
      "Checking Accounts           3000 non-null float64\n",
      "Saving Accounts             3000 non-null float64\n",
      "Foreign Currency Account    3000 non-null float64\n",
      "Business Lending            3000 non-null float64\n",
      "Properties Owned            3000 non-null int64\n",
      "Risk Weighting              3000 non-null int64\n",
      "BRId                        3000 non-null int64\n",
      "GenderId                    3000 non-null int64\n",
      "IAId                        3000 non-null int64\n",
      "dtypes: float64(9), int64(8), object(8)\n",
      "memory usage: 586.1+ KB\n"
     ]
    }
   ],
   "source": [
    "df.info()"
   ]
  },
  {
   "cell_type": "code",
   "execution_count": 8,
   "metadata": {},
   "outputs": [
    {
     "data": {
      "text/plain": [
       "Index(['Client ID', 'Name', 'Age', 'Location ID', 'Joined Bank',\n",
       "       'Banking Contact', 'Nationality', 'Occupation', 'Fee Structure',\n",
       "       'Loyalty Classification', 'Estimated Income', 'Superannuation Savings',\n",
       "       'Amount of Credit Cards', 'Credit Card Balance', 'Bank Loans',\n",
       "       'Bank Deposits', 'Checking Accounts', 'Saving Accounts',\n",
       "       'Foreign Currency Account', 'Business Lending', 'Properties Owned',\n",
       "       'Risk Weighting', 'BRId', 'GenderId', 'IAId'],\n",
       "      dtype='object')"
      ]
     },
     "execution_count": 8,
     "metadata": {},
     "output_type": "execute_result"
    }
   ],
   "source": [
    "df.columns"
   ]
  },
  {
   "cell_type": "code",
   "execution_count": null,
   "metadata": {},
   "outputs": [],
   "source": [
    "#Generate descriptive statics for the dataFrame\n",
    "df.describe()"
   ]
  },
  {
   "cell_type": "code",
   "execution_count": null,
   "metadata": {},
   "outputs": [],
   "source": [
    "bins = [0, 100000, 300000, float('inf')]\n",
    "labels = ['Low', 'Med', 'High']\n",
    "df['Income Band'] = pd.cut(df['Estimated Income'], bins=bins, labels=labels)"
   ]
  },
  {
   "cell_type": "code",
   "execution_count": null,
   "metadata": {},
   "outputs": [],
   "source": [
    "df['Income Band'].value_counts().plot(kind='bar')"
   ]
  },
  {
   "cell_type": "code",
   "execution_count": null,
   "metadata": {},
   "outputs": [],
   "source": [
    "df.head()"
   ]
  },
  {
   "cell_type": "markdown",
   "metadata": {},
   "source": [
    "## Categorical Analysis"
   ]
  },
  {
   "cell_type": "code",
   "execution_count": null,
   "metadata": {},
   "outputs": [],
   "source": [
    "#Examine the distribution of unique cataegories in categorical columns\n",
    "categorical_cols = [\"Nationality\", \"Occupation\", \"Fee Structure\", \"Loyalty Classification\",\"Amount of Credit Cards\", \"Properties Owned\", \"Risk Weighting\", \"BRId\", \"GenderId\", \"IAId\"]\n",
    "\n",
    "for col in categorical_cols:\n",
    "    print(f\"Value Counts for '{col}':\")\n",
    "    display(df[col].value_counts())"
   ]
  },
  {
   "cell_type": "markdown",
   "metadata": {},
   "source": [
    "## Univariate Analysis\n",
    " "
   ]
  },
  {
   "cell_type": "code",
   "execution_count": null,
   "metadata": {},
   "outputs": [],
   "source": [
    "for i, predictor in enumerate(categorical_cols):\n",
    "    plt.figure(i)\n",
    "    sns.countplot(data=df, x=predictor)"
   ]
  },
  {
   "cell_type": "markdown",
   "metadata": {},
   "source": [
    "## Bivariate Analysis"
   ]
  },
  {
   "cell_type": "code",
   "execution_count": null,
   "metadata": {},
   "outputs": [],
   "source": [
    "for i, predictor in enumerate(categorical_cols):\n",
    "    plt.figure(i)\n",
    "    sns.countplot(data=df, x=predictor, hue='GenderId')"
   ]
  },
  {
   "cell_type": "code",
   "execution_count": null,
   "metadata": {},
   "outputs": [],
   "source": [
    "for i, predictor in enumerate(categorical_cols):\n",
    "    plt.figure(i)\n",
    "    sns.countplot(data=df, x=predictor, hue='Nationality')"
   ]
  },
  {
   "cell_type": "code",
   "execution_count": null,
   "metadata": {},
   "outputs": [],
   "source": [
    "#Histplot of value count for different occupation\n",
    "for col in categorical_cols:\n",
    "    if col == \"Occupation\":\n",
    "        continue\n",
    "    plt.figure(figsize=(8,4))\n",
    "    sns.histplot(df[col])\n",
    "    plt.title(f'Histogram of {col} Count')\n",
    "    plt.xlabel(col)\n",
    "    plt.ylabel('Count')\n",
    "    plt.show()"
   ]
  },
  {
   "cell_type": "code",
   "execution_count": null,
   "metadata": {},
   "outputs": [],
   "source": [
    "df.info()"
   ]
  },
  {
   "cell_type": "markdown",
   "metadata": {},
   "source": [
    "## Numerical Analysis"
   ]
  },
  {
   "cell_type": "code",
   "execution_count": null,
   "metadata": {},
   "outputs": [],
   "source": [
    "numeric_cols = ['Age', 'Estimated Income', 'Superannuation Savings', 'Amount of Credit Cards', 'Credit Card Balance', 'Bank Loans', 'Bank Deposits', 'Checking Accounts', 'Saving Accounts', 'Foreign Currency Account', 'Business Lending']\n",
    "\n",
    "# 1. Basic Descriptive Statistics\n",
    "print(\"Descriptive Statistics:\")\n",
    "print(df[numeric_cols].describe().transpose())"
   ]
  },
  {
   "cell_type": "code",
   "execution_count": null,
   "metadata": {},
   "outputs": [],
   "source": [
    "# 2. Visualizations for each numeric column\n",
    "for col in numeric_cols:\n",
    "    plt.figure(figsize=(14, 5))\n",
    "    \n",
    "    # Histogram with KDE\n",
    "    plt.subplot(1, 2, 1)\n",
    "    sns.histplot(df[col], kde=True, bins=30)\n",
    "    plt.title(f'Distribution of {col}')\n",
    "    plt.xlabel(col)\n",
    "    plt.ylabel('Frequency')\n",
    "    \n",
    "    \n",
    "    # Boxplot\n",
    "    plt.subplot(1, 2, 2)\n",
    "    sns.boxplot(x=df[col])\n",
    "    plt.title(f'Boxplot of {col}')\n",
    "    plt.xlabel(col)\n",
    "    \n",
    "    plt.tight_layout()\n",
    "    plt.show()\n",
    "    \n",
    "    print(f\"\\n{col}:\")\n",
    "    print(f\"Skewness: {df[col].skew():.2f}\")\n",
    "    print(f\"Kurtosis: {df[col].kurtosis():.2f}\")\n",
    "    print(\"=\"*50)"
   ]
  },
  {
   "cell_type": "markdown",
   "metadata": {},
   "source": [
    "## Corrleation(Heat Map)"
   ]
  },
  {
   "cell_type": "code",
   "execution_count": null,
   "metadata": {},
   "outputs": [],
   "source": [
    "correlation_matrix = df[numeric_cols].corr()\n",
    "\n",
    "plt.figure(figsize=(12, 12))\n",
    "sns.heatmap(correlation_matrix, annot=True, cmap='crest', fmt='.2f')\n",
    "plt.title('Correlation Heatmap')\n",
    "plt.show()"
   ]
  },
  {
   "cell_type": "markdown",
   "metadata": {},
   "source": [
    "## Insights of EDA:\n",
    "\n",
    "1.Majority of customers are married, full-time employed, and in the middle-income group.\n",
    "\n",
    "2.Email is the top communication channel; online banking is widely preferred.\n",
    "\n",
    "3.Churn is higher among unmarried, childless, and low product-holding customers.\n",
    "\n",
    "4.High positive correlation between Checking and Saving Accounts (0.84) — customers often maintain both.\n",
    "\n",
    "5.A small segment of customers has very high income, loans, and deposits, indicating wealth concentration.\n",
    "\n",
    "6.Most financial features are right-skewed, showing that few customers hold large financial values."
   ]
  },
  {
   "cell_type": "code",
   "execution_count": null,
   "metadata": {},
   "outputs": [],
   "source": []
  },
  {
   "cell_type": "code",
   "execution_count": null,
   "metadata": {},
   "outputs": [],
   "source": []
  },
  {
   "cell_type": "code",
   "execution_count": null,
   "metadata": {},
   "outputs": [],
   "source": []
  }
 ],
 "metadata": {
  "kernelspec": {
   "display_name": "Python 3",
   "language": "python",
   "name": "python3"
  },
  "language_info": {
   "codemirror_mode": {
    "name": "ipython",
    "version": 3
   },
   "file_extension": ".py",
   "mimetype": "text/x-python",
   "name": "python",
   "nbconvert_exporter": "python",
   "pygments_lexer": "ipython3",
   "version": "3.7.4"
  }
 },
 "nbformat": 4,
 "nbformat_minor": 2
}
